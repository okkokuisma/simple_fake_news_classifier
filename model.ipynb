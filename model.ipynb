{
 "cells": [
  {
   "cell_type": "code",
   "execution_count": 10,
   "metadata": {},
   "outputs": [],
   "source": [
    "import pandas as pd\n",
    "import numpy as np\n",
    "from sklearn.feature_extraction.text import CountVectorizer, TfidfTransformer\n",
    "from sklearn.ensemble import RandomForestClassifier\n",
    "from sklearn.model_selection import train_test_split, RandomizedSearchCV, GridSearchCV\n",
    "from sklearn.metrics import accuracy_score"
   ]
  },
  {
   "cell_type": "code",
   "execution_count": 4,
   "metadata": {},
   "outputs": [],
   "source": [
    "fake = pd.read_csv('misinfo_data/DataSet_Misinfo_FAKE.csv', index_col=0)\n",
    "true = pd.read_csv('misinfo_data/DataSet_Misinfo_TRUE.csv', index_col=0)\n",
    "true = true.dropna()\n",
    "corpus = pd.concat([fake, true], ignore_index=True)\n",
    "y = np.concatenate([np.ones(fake.shape[0]), np.zeros(true.shape[0])])"
   ]
  },
  {
   "cell_type": "code",
   "execution_count": 5,
   "metadata": {},
   "outputs": [],
   "source": [
    "vectorizer = CountVectorizer()\n",
    "count_matrix = vectorizer.fit_transform(corpus['text'])\n",
    "transformer = TfidfTransformer()\n",
    "X = transformer.fit_transform(count_matrix)"
   ]
  },
  {
   "cell_type": "code",
   "execution_count": null,
   "metadata": {},
   "outputs": [
    {
     "name": "stdout",
     "output_type": "stream",
     "text": [
      "Fitting 3 folds for each of 15 candidates, totalling 45 fits\n",
      "[CV 1/3] END bootstrap=True, max_depth=10, min_samples_leaf=4, min_samples_split=10, n_estimators=800;, score=0.779 total time= 5.1min\n",
      "[CV 2/3] END bootstrap=True, max_depth=10, min_samples_leaf=4, min_samples_split=10, n_estimators=800;, score=0.780 total time= 5.1min\n",
      "[CV 3/3] END bootstrap=True, max_depth=10, min_samples_leaf=4, min_samples_split=10, n_estimators=800;, score=0.778 total time= 5.2min\n",
      "[CV 1/3] END bootstrap=False, max_depth=40, min_samples_leaf=4, min_samples_split=2, n_estimators=200;, score=0.896 total time= 7.9min\n",
      "[CV 2/3] END bootstrap=False, max_depth=40, min_samples_leaf=4, min_samples_split=2, n_estimators=200;, score=0.903 total time= 7.9min\n",
      "[CV 3/3] END bootstrap=False, max_depth=40, min_samples_leaf=4, min_samples_split=2, n_estimators=200;, score=0.904 total time= 8.0min\n",
      "[CV 1/3] END bootstrap=True, max_depth=None, min_samples_leaf=4, min_samples_split=2, n_estimators=400;, score=0.906 total time=13.6min\n",
      "[CV 2/3] END bootstrap=True, max_depth=None, min_samples_leaf=4, min_samples_split=2, n_estimators=400;, score=0.910 total time=13.8min\n",
      "[CV 3/3] END bootstrap=True, max_depth=None, min_samples_leaf=4, min_samples_split=2, n_estimators=400;, score=0.915 total time=13.8min\n",
      "[CV 1/3] END bootstrap=False, max_depth=10, min_samples_leaf=1, min_samples_split=10, n_estimators=800;, score=0.780 total time= 6.9min\n",
      "[CV 2/3] END bootstrap=False, max_depth=10, min_samples_leaf=1, min_samples_split=10, n_estimators=800;, score=0.783 total time= 6.8min\n",
      "[CV 3/3] END bootstrap=False, max_depth=10, min_samples_leaf=1, min_samples_split=10, n_estimators=800;, score=0.782 total time= 7.0min\n",
      "[CV 1/3] END bootstrap=True, max_depth=70, min_samples_leaf=4, min_samples_split=5, n_estimators=1000;, score=0.903 total time=31.1min\n",
      "[CV 2/3] END bootstrap=True, max_depth=70, min_samples_leaf=4, min_samples_split=5, n_estimators=1000;, score=0.909 total time=31.3min\n",
      "[CV 3/3] END bootstrap=True, max_depth=70, min_samples_leaf=4, min_samples_split=5, n_estimators=1000;, score=0.912 total time=31.0min\n",
      "[CV 1/3] END bootstrap=True, max_depth=40, min_samples_leaf=4, min_samples_split=10, n_estimators=800;, score=0.893 total time=19.4min\n",
      "[CV 2/3] END bootstrap=True, max_depth=40, min_samples_leaf=4, min_samples_split=10, n_estimators=800;, score=0.893 total time=19.3min\n",
      "[CV 3/3] END bootstrap=True, max_depth=40, min_samples_leaf=4, min_samples_split=10, n_estimators=800;, score=0.902 total time=18.4min\n",
      "[CV 1/3] END bootstrap=True, max_depth=None, min_samples_leaf=1, min_samples_split=5, n_estimators=800;, score=0.916 total time=58.3min\n"
     ]
    },
    {
     "name": "stderr",
     "output_type": "stream",
     "text": [
      "/home/okko/anaconda3/lib/python3.11/site-packages/joblib/externals/loky/process_executor.py:700: UserWarning: A worker stopped while some jobs were given to the executor. This can be caused by a too short worker timeout or by a memory leak.\n",
      "  warnings.warn(\n"
     ]
    },
    {
     "name": "stdout",
     "output_type": "stream",
     "text": [
      "[CV 2/3] END bootstrap=True, max_depth=None, min_samples_leaf=1, min_samples_split=5, n_estimators=800;, score=0.921 total time=58.5min\n",
      "[CV 1/3] END bootstrap=False, max_depth=10, min_samples_leaf=1, min_samples_split=5, n_estimators=200;, score=0.774 total time= 1.7min\n",
      "[CV 3/3] END bootstrap=True, max_depth=None, min_samples_leaf=1, min_samples_split=5, n_estimators=800;, score=0.926 total time=58.9min\n",
      "[CV 2/3] END bootstrap=False, max_depth=10, min_samples_leaf=1, min_samples_split=5, n_estimators=200;, score=0.779 total time= 1.8min\n",
      "[CV 3/3] END bootstrap=False, max_depth=10, min_samples_leaf=1, min_samples_split=5, n_estimators=200;, score=0.787 total time= 1.7min\n",
      "[CV 1/3] END bootstrap=True, max_depth=100, min_samples_leaf=4, min_samples_split=5, n_estimators=1000;, score=0.905 total time=30.1min\n",
      "[CV 2/3] END bootstrap=True, max_depth=100, min_samples_leaf=4, min_samples_split=5, n_estimators=1000;, score=0.911 total time=29.6min\n",
      "[CV 3/3] END bootstrap=True, max_depth=100, min_samples_leaf=4, min_samples_split=5, n_estimators=1000;, score=0.913 total time=29.9min\n",
      "[CV 1/3] END bootstrap=False, max_depth=40, min_samples_leaf=4, min_samples_split=5, n_estimators=200;, score=0.898 total time= 6.9min\n",
      "[CV 2/3] END bootstrap=False, max_depth=40, min_samples_leaf=4, min_samples_split=5, n_estimators=200;, score=0.899 total time= 6.8min\n",
      "[CV 1/3] END bootstrap=True, max_depth=10, min_samples_leaf=2, min_samples_split=5, n_estimators=1000;, score=0.778 total time= 5.6min\n",
      "[CV 3/3] END bootstrap=False, max_depth=40, min_samples_leaf=4, min_samples_split=5, n_estimators=200;, score=0.907 total time= 6.9min\n",
      "[CV 1/3] END bootstrap=False, max_depth=40, min_samples_leaf=2, min_samples_split=5, n_estimators=1000;, score=0.904 total time=41.9min\n",
      "[CV 2/3] END bootstrap=True, max_depth=10, min_samples_leaf=2, min_samples_split=5, n_estimators=1000;, score=0.782 total time= 5.5min\n",
      "[CV 3/3] END bootstrap=True, max_depth=10, min_samples_leaf=2, min_samples_split=5, n_estimators=1000;, score=0.780 total time= 5.6min\n",
      "[CV 2/3] END bootstrap=False, max_depth=40, min_samples_leaf=2, min_samples_split=5, n_estimators=1000;, score=0.908 total time=41.7min\n",
      "[CV 3/3] END bootstrap=False, max_depth=40, min_samples_leaf=2, min_samples_split=5, n_estimators=1000;, score=0.912 total time=42.6min\n",
      "[CV 1/3] END bootstrap=False, max_depth=100, min_samples_leaf=2, min_samples_split=10, n_estimators=200;, score=0.916 total time=86.5min\n",
      "[CV 2/3] END bootstrap=False, max_depth=100, min_samples_leaf=2, min_samples_split=10, n_estimators=200;, score=0.919 total time=87.0min\n",
      "[CV 1/3] END bootstrap=True, max_depth=100, min_samples_leaf=1, min_samples_split=10, n_estimators=1000;, score=0.915 total time=127.0min\n",
      "[CV 1/3] END bootstrap=True, max_depth=100, min_samples_leaf=2, min_samples_split=10, n_estimators=800;, score=0.914 total time=107.2min\n",
      "[CV 2/3] END bootstrap=True, max_depth=100, min_samples_leaf=1, min_samples_split=10, n_estimators=1000;, score=0.919 total time=127.6min\n",
      "[CV 3/3] END bootstrap=True, max_depth=100, min_samples_leaf=1, min_samples_split=10, n_estimators=1000;, score=0.922 total time=127.7min\n",
      "[CV 3/3] END bootstrap=False, max_depth=100, min_samples_leaf=2, min_samples_split=10, n_estimators=200;, score=0.923 total time=12.2min\n",
      "[CV 2/3] END bootstrap=True, max_depth=100, min_samples_leaf=2, min_samples_split=10, n_estimators=800;, score=0.917 total time=106.0min\n",
      "[CV 3/3] END bootstrap=True, max_depth=100, min_samples_leaf=2, min_samples_split=10, n_estimators=800;, score=0.920 total time=106.2min\n"
     ]
    }
   ],
   "source": [
    "X_train, X_test, y_train, y_test = train_test_split(X, y, test_size=0.25, random_state=10)\n",
    "\n",
    "n_estimators = [int(x) for x in np.linspace(start = 200, stop = 1000, num = 5)]\n",
    "max_depth = [int(x) for x in np.linspace(10, 100, num = 4)]\n",
    "max_depth.append(None)\n",
    "min_samples_split = [2, 5, 10]\n",
    "min_samples_leaf = [1, 2, 4]\n",
    "bootstrap = [True, False]\n",
    "random_grid = {\n",
    "    'n_estimators': n_estimators,\n",
    "    'max_depth': max_depth,\n",
    "    'min_samples_split': min_samples_split,\n",
    "    'min_samples_leaf': min_samples_leaf,\n",
    "    'bootstrap': bootstrap\n",
    "}\n",
    "\n",
    "rf = RandomForestClassifier()\n",
    "rf_random = RandomizedSearchCV(estimator = rf, param_distributions = random_grid, n_iter = 15, cv = 3, verbose=3, random_state=10, n_jobs = -1)\n",
    "rf_random.fit(X_train, y_train)"
   ]
  },
  {
   "cell_type": "code",
   "execution_count": 7,
   "metadata": {},
   "outputs": [
    {
     "name": "stdout",
     "output_type": "stream",
     "text": [
      "Fitting 3 folds for each of 18 candidates, totalling 54 fits\n",
      "[CV 1/3] END bootstrap=True, min_samples_leaf=1, min_samples_split=10;, score=0.915 total time=14.3min\n",
      "[CV 2/3] END bootstrap=True, min_samples_leaf=1, min_samples_split=10;, score=0.918 total time=14.3min\n",
      "[CV 1/3] END bootstrap=True, min_samples_leaf=1, min_samples_split=5;, score=0.916 total time=16.2min\n",
      "[CV 2/3] END bootstrap=True, min_samples_leaf=1, min_samples_split=5;, score=0.918 total time=16.4min\n",
      "[CV 3/3] END bootstrap=True, min_samples_leaf=1, min_samples_split=5;, score=0.922 total time=16.6min\n",
      "[CV 1/3] END bootstrap=True, min_samples_leaf=1, min_samples_split=2;, score=0.917 total time=19.7min\n",
      "[CV 3/3] END bootstrap=True, min_samples_leaf=1, min_samples_split=2;, score=0.921 total time=19.7min\n",
      "[CV 2/3] END bootstrap=True, min_samples_leaf=1, min_samples_split=2;, score=0.918 total time=19.8min\n",
      "[CV 1/3] END bootstrap=True, min_samples_leaf=2, min_samples_split=2;, score=0.913 total time=11.0min\n",
      "[CV 2/3] END bootstrap=True, min_samples_leaf=2, min_samples_split=2;, score=0.914 total time=10.8min\n",
      "[CV 1/3] END bootstrap=True, min_samples_leaf=2, min_samples_split=5;, score=0.912 total time=10.6min\n",
      "[CV 3/3] END bootstrap=True, min_samples_leaf=2, min_samples_split=2;, score=0.921 total time=10.9min\n",
      "[CV 3/3] END bootstrap=True, min_samples_leaf=1, min_samples_split=10;, score=0.922 total time=14.1min\n",
      "[CV 1/3] END bootstrap=True, min_samples_leaf=2, min_samples_split=10;, score=0.912 total time= 9.6min\n",
      "[CV 2/3] END bootstrap=True, min_samples_leaf=2, min_samples_split=5;, score=0.918 total time=10.1min\n",
      "[CV 3/3] END bootstrap=True, min_samples_leaf=2, min_samples_split=5;, score=0.920 total time=10.3min\n",
      "[CV 1/3] END bootstrap=True, min_samples_leaf=4, min_samples_split=2;, score=0.905 total time= 6.6min\n",
      "[CV 2/3] END bootstrap=True, min_samples_leaf=4, min_samples_split=2;, score=0.908 total time= 6.6min\n",
      "[CV 2/3] END bootstrap=True, min_samples_leaf=2, min_samples_split=10;, score=0.917 total time= 9.3min\n",
      "[CV 3/3] END bootstrap=True, min_samples_leaf=4, min_samples_split=2;, score=0.915 total time= 6.3min\n",
      "[CV 1/3] END bootstrap=True, min_samples_leaf=4, min_samples_split=5;, score=0.903 total time= 6.4min\n",
      "[CV 2/3] END bootstrap=True, min_samples_leaf=4, min_samples_split=5;, score=0.909 total time= 6.4min\n",
      "[CV 3/3] END bootstrap=True, min_samples_leaf=2, min_samples_split=10;, score=0.920 total time= 9.2min\n",
      "[CV 3/3] END bootstrap=True, min_samples_leaf=4, min_samples_split=5;, score=0.913 total time= 6.5min\n",
      "[CV 1/3] END bootstrap=True, min_samples_leaf=4, min_samples_split=10;, score=0.904 total time= 6.3min\n",
      "[CV 2/3] END bootstrap=True, min_samples_leaf=4, min_samples_split=10;, score=0.910 total time= 6.4min\n",
      "[CV 3/3] END bootstrap=True, min_samples_leaf=4, min_samples_split=10;, score=0.914 total time= 6.3min\n",
      "[CV 1/3] END bootstrap=False, min_samples_leaf=1, min_samples_split=5;, score=0.918 total time=21.5min\n",
      "[CV 2/3] END bootstrap=False, min_samples_leaf=1, min_samples_split=5;, score=0.923 total time=21.4min\n",
      "[CV 1/3] END bootstrap=False, min_samples_leaf=1, min_samples_split=10;, score=0.917 total time=19.1min\n",
      "[CV 1/3] END bootstrap=False, min_samples_leaf=1, min_samples_split=2;, score=0.919 total time=25.1min\n",
      "[CV 2/3] END bootstrap=False, min_samples_leaf=1, min_samples_split=10;, score=0.922 total time=19.1min\n",
      "[CV 2/3] END bootstrap=False, min_samples_leaf=1, min_samples_split=2;, score=0.919 total time=25.4min\n",
      "[CV 3/3] END bootstrap=False, min_samples_leaf=1, min_samples_split=2;, score=0.925 total time=25.6min\n",
      "[CV 3/3] END bootstrap=False, min_samples_leaf=1, min_samples_split=5;, score=0.927 total time=21.9min\n",
      "[CV 1/3] END bootstrap=False, min_samples_leaf=2, min_samples_split=2;, score=0.916 total time=14.8min\n",
      "[CV 2/3] END bootstrap=False, min_samples_leaf=2, min_samples_split=2;, score=0.920 total time=14.6min\n",
      "[CV 1/3] END bootstrap=False, min_samples_leaf=2, min_samples_split=5;, score=0.916 total time=14.1min\n",
      "[CV 3/3] END bootstrap=False, min_samples_leaf=2, min_samples_split=2;, score=0.924 total time=14.9min\n",
      "[CV 2/3] END bootstrap=False, min_samples_leaf=2, min_samples_split=5;, score=0.922 total time=13.9min\n",
      "[CV 1/3] END bootstrap=False, min_samples_leaf=2, min_samples_split=10;, score=0.917 total time=13.2min\n",
      "[CV 3/3] END bootstrap=False, min_samples_leaf=2, min_samples_split=5;, score=0.923 total time=14.3min\n",
      "[CV 3/3] END bootstrap=False, min_samples_leaf=1, min_samples_split=10;, score=0.927 total time=18.7min\n",
      "[CV 1/3] END bootstrap=False, min_samples_leaf=4, min_samples_split=2;, score=0.911 total time= 9.8min\n",
      "[CV 2/3] END bootstrap=False, min_samples_leaf=4, min_samples_split=2;, score=0.915 total time= 9.7min\n",
      "[CV 3/3] END bootstrap=False, min_samples_leaf=4, min_samples_split=2;, score=0.919 total time= 9.8min\n",
      "[CV 1/3] END bootstrap=False, min_samples_leaf=4, min_samples_split=5;, score=0.912 total time= 9.7min\n",
      "[CV 2/3] END bootstrap=False, min_samples_leaf=4, min_samples_split=5;, score=0.916 total time= 9.5min\n",
      "[CV 2/3] END bootstrap=False, min_samples_leaf=2, min_samples_split=10;, score=0.922 total time=13.0min\n",
      "[CV 3/3] END bootstrap=False, min_samples_leaf=4, min_samples_split=5;, score=0.920 total time= 9.5min\n",
      "[CV 3/3] END bootstrap=False, min_samples_leaf=2, min_samples_split=10;, score=0.926 total time=12.6min\n",
      "[CV 1/3] END bootstrap=False, min_samples_leaf=4, min_samples_split=10;, score=0.913 total time= 5.8min\n",
      "[CV 2/3] END bootstrap=False, min_samples_leaf=4, min_samples_split=10;, score=0.913 total time= 5.7min\n",
      "[CV 3/3] END bootstrap=False, min_samples_leaf=4, min_samples_split=10;, score=0.920 total time= 5.5min\n"
     ]
    },
    {
     "data": {
      "text/html": [
       "<style>#sk-container-id-1 {color: black;background-color: white;}#sk-container-id-1 pre{padding: 0;}#sk-container-id-1 div.sk-toggleable {background-color: white;}#sk-container-id-1 label.sk-toggleable__label {cursor: pointer;display: block;width: 100%;margin-bottom: 0;padding: 0.3em;box-sizing: border-box;text-align: center;}#sk-container-id-1 label.sk-toggleable__label-arrow:before {content: \"▸\";float: left;margin-right: 0.25em;color: #696969;}#sk-container-id-1 label.sk-toggleable__label-arrow:hover:before {color: black;}#sk-container-id-1 div.sk-estimator:hover label.sk-toggleable__label-arrow:before {color: black;}#sk-container-id-1 div.sk-toggleable__content {max-height: 0;max-width: 0;overflow: hidden;text-align: left;background-color: #f0f8ff;}#sk-container-id-1 div.sk-toggleable__content pre {margin: 0.2em;color: black;border-radius: 0.25em;background-color: #f0f8ff;}#sk-container-id-1 input.sk-toggleable__control:checked~div.sk-toggleable__content {max-height: 200px;max-width: 100%;overflow: auto;}#sk-container-id-1 input.sk-toggleable__control:checked~label.sk-toggleable__label-arrow:before {content: \"▾\";}#sk-container-id-1 div.sk-estimator input.sk-toggleable__control:checked~label.sk-toggleable__label {background-color: #d4ebff;}#sk-container-id-1 div.sk-label input.sk-toggleable__control:checked~label.sk-toggleable__label {background-color: #d4ebff;}#sk-container-id-1 input.sk-hidden--visually {border: 0;clip: rect(1px 1px 1px 1px);clip: rect(1px, 1px, 1px, 1px);height: 1px;margin: -1px;overflow: hidden;padding: 0;position: absolute;width: 1px;}#sk-container-id-1 div.sk-estimator {font-family: monospace;background-color: #f0f8ff;border: 1px dotted black;border-radius: 0.25em;box-sizing: border-box;margin-bottom: 0.5em;}#sk-container-id-1 div.sk-estimator:hover {background-color: #d4ebff;}#sk-container-id-1 div.sk-parallel-item::after {content: \"\";width: 100%;border-bottom: 1px solid gray;flex-grow: 1;}#sk-container-id-1 div.sk-label:hover label.sk-toggleable__label {background-color: #d4ebff;}#sk-container-id-1 div.sk-serial::before {content: \"\";position: absolute;border-left: 1px solid gray;box-sizing: border-box;top: 0;bottom: 0;left: 50%;z-index: 0;}#sk-container-id-1 div.sk-serial {display: flex;flex-direction: column;align-items: center;background-color: white;padding-right: 0.2em;padding-left: 0.2em;position: relative;}#sk-container-id-1 div.sk-item {position: relative;z-index: 1;}#sk-container-id-1 div.sk-parallel {display: flex;align-items: stretch;justify-content: center;background-color: white;position: relative;}#sk-container-id-1 div.sk-item::before, #sk-container-id-1 div.sk-parallel-item::before {content: \"\";position: absolute;border-left: 1px solid gray;box-sizing: border-box;top: 0;bottom: 0;left: 50%;z-index: -1;}#sk-container-id-1 div.sk-parallel-item {display: flex;flex-direction: column;z-index: 1;position: relative;background-color: white;}#sk-container-id-1 div.sk-parallel-item:first-child::after {align-self: flex-end;width: 50%;}#sk-container-id-1 div.sk-parallel-item:last-child::after {align-self: flex-start;width: 50%;}#sk-container-id-1 div.sk-parallel-item:only-child::after {width: 0;}#sk-container-id-1 div.sk-dashed-wrapped {border: 1px dashed gray;margin: 0 0.4em 0.5em 0.4em;box-sizing: border-box;padding-bottom: 0.4em;background-color: white;}#sk-container-id-1 div.sk-label label {font-family: monospace;font-weight: bold;display: inline-block;line-height: 1.2em;}#sk-container-id-1 div.sk-label-container {text-align: center;}#sk-container-id-1 div.sk-container {/* jupyter's `normalize.less` sets `[hidden] { display: none; }` but bootstrap.min.css set `[hidden] { display: none !important; }` so we also need the `!important` here to be able to override the default hidden behavior on the sphinx rendered scikit-learn.org. See: https://github.com/scikit-learn/scikit-learn/issues/21755 */display: inline-block !important;position: relative;}#sk-container-id-1 div.sk-text-repr-fallback {display: none;}</style><div id=\"sk-container-id-1\" class=\"sk-top-container\"><div class=\"sk-text-repr-fallback\"><pre>GridSearchCV(cv=3, estimator=RandomForestClassifier(n_estimators=200),\n",
       "             n_jobs=-1,\n",
       "             param_grid={&#x27;bootstrap&#x27;: [True, False],\n",
       "                         &#x27;min_samples_leaf&#x27;: [1, 2, 4],\n",
       "                         &#x27;min_samples_split&#x27;: [2, 5, 10]},\n",
       "             verbose=3)</pre><b>In a Jupyter environment, please rerun this cell to show the HTML representation or trust the notebook. <br />On GitHub, the HTML representation is unable to render, please try loading this page with nbviewer.org.</b></div><div class=\"sk-container\" hidden><div class=\"sk-item sk-dashed-wrapped\"><div class=\"sk-label-container\"><div class=\"sk-label sk-toggleable\"><input class=\"sk-toggleable__control sk-hidden--visually\" id=\"sk-estimator-id-1\" type=\"checkbox\" ><label for=\"sk-estimator-id-1\" class=\"sk-toggleable__label sk-toggleable__label-arrow\">GridSearchCV</label><div class=\"sk-toggleable__content\"><pre>GridSearchCV(cv=3, estimator=RandomForestClassifier(n_estimators=200),\n",
       "             n_jobs=-1,\n",
       "             param_grid={&#x27;bootstrap&#x27;: [True, False],\n",
       "                         &#x27;min_samples_leaf&#x27;: [1, 2, 4],\n",
       "                         &#x27;min_samples_split&#x27;: [2, 5, 10]},\n",
       "             verbose=3)</pre></div></div></div><div class=\"sk-parallel\"><div class=\"sk-parallel-item\"><div class=\"sk-item\"><div class=\"sk-label-container\"><div class=\"sk-label sk-toggleable\"><input class=\"sk-toggleable__control sk-hidden--visually\" id=\"sk-estimator-id-2\" type=\"checkbox\" ><label for=\"sk-estimator-id-2\" class=\"sk-toggleable__label sk-toggleable__label-arrow\">estimator: RandomForestClassifier</label><div class=\"sk-toggleable__content\"><pre>RandomForestClassifier(n_estimators=200)</pre></div></div></div><div class=\"sk-serial\"><div class=\"sk-item\"><div class=\"sk-estimator sk-toggleable\"><input class=\"sk-toggleable__control sk-hidden--visually\" id=\"sk-estimator-id-3\" type=\"checkbox\" ><label for=\"sk-estimator-id-3\" class=\"sk-toggleable__label sk-toggleable__label-arrow\">RandomForestClassifier</label><div class=\"sk-toggleable__content\"><pre>RandomForestClassifier(n_estimators=200)</pre></div></div></div></div></div></div></div></div></div></div>"
      ],
      "text/plain": [
       "GridSearchCV(cv=3, estimator=RandomForestClassifier(n_estimators=200),\n",
       "             n_jobs=-1,\n",
       "             param_grid={'bootstrap': [True, False],\n",
       "                         'min_samples_leaf': [1, 2, 4],\n",
       "                         'min_samples_split': [2, 5, 10]},\n",
       "             verbose=3)"
      ]
     },
     "execution_count": 7,
     "metadata": {},
     "output_type": "execute_result"
    }
   ],
   "source": [
    "X_train, X_test, y_train, y_test = train_test_split(X, y, test_size=0.25, random_state=10)\n",
    "min_samples_split = [2, 5, 10]\n",
    "min_samples_leaf = [1, 2, 4]\n",
    "bootstrap = [True, False]\n",
    "param_grid = {\n",
    "    'min_samples_split': min_samples_split,\n",
    "    'min_samples_leaf': min_samples_leaf,\n",
    "    'bootstrap': bootstrap\n",
    "}\n",
    "\n",
    "rf = RandomForestClassifier( n_estimators=200, max_depth = None)\n",
    "rf_grid = GridSearchCV(estimator = rf, param_grid=param_grid, cv = 3, verbose=3, n_jobs = -1)\n",
    "rf_grid.fit(X_train, y_train)"
   ]
  },
  {
   "cell_type": "code",
   "execution_count": 20,
   "metadata": {},
   "outputs": [
    {
     "name": "stdout",
     "output_type": "stream",
     "text": [
      "RandomForestClassifier(bootstrap=False, min_samples_split=5, n_estimators=200)\n",
      "0.9225496683123802\n",
      "0.934493815849748\n"
     ]
    }
   ],
   "source": [
    "print(rf_grid.best_estimator_)\n",
    "print(rf_grid.best_score_)\n",
    "rf = rf_grid.best_estimator_\n",
    "rf.fit(X_train, y_train)\n",
    "y_hat = rf.predict(X_test)\n",
    "print(accuracy_score(y_true=y_test, y_pred=y_hat))\n"
   ]
  }
 ],
 "metadata": {
  "kernelspec": {
   "display_name": "base",
   "language": "python",
   "name": "python3"
  },
  "language_info": {
   "codemirror_mode": {
    "name": "ipython",
    "version": 3
   },
   "file_extension": ".py",
   "mimetype": "text/x-python",
   "name": "python",
   "nbconvert_exporter": "python",
   "pygments_lexer": "ipython3",
   "version": "3.11.8"
  }
 },
 "nbformat": 4,
 "nbformat_minor": 2
}
